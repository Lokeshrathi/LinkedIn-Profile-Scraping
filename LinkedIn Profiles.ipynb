{
 "cells": [
  {
   "cell_type": "code",
   "execution_count": 42,
   "metadata": {},
   "outputs": [],
   "source": [
    "import selenium\n",
    "from selenium import webdriver\n",
    "import time\n",
    "import pandas as pd\n",
    "import numpy as np\n",
    "import warnings\n",
    "warnings.filterwarnings('ignore')\n",
    "from datetime import datetime as dt,date,timedelta\n",
    "import json\n",
    "import re\n",
    "from selenium.webdriver.common.keys import Keys\n",
    "from parsel import Selector\n",
    "from bs4 import BeautifulSoup"
   ]
  },
  {
   "cell_type": "code",
   "execution_count": 15,
   "metadata": {},
   "outputs": [],
   "source": [
    "user = 'username'\n",
    "password = 'password'"
   ]
  },
  {
   "cell_type": "code",
   "execution_count": 16,
   "metadata": {},
   "outputs": [],
   "source": [
    "search_query = 'site:linkedin.com/in/ AND \"Data Analyst\" AND \"Bangalore\"'"
   ]
  },
  {
   "cell_type": "code",
   "execution_count": 17,
   "metadata": {},
   "outputs": [],
   "source": [
    "browser = webdriver.Chrome('C:/Users/Hiveminds/Desktop/Work/honey/chromedriver.exe')\n",
    "url = \"https://www.linkedin.com/\"\n",
    "browser.get(url)\n",
    "time.sleep(2)"
   ]
  },
  {
   "cell_type": "code",
   "execution_count": 18,
   "metadata": {},
   "outputs": [],
   "source": [
    "browser.find_element_by_xpath('//*[@id=\"session_key\"]').send_keys(user)\n",
    "time.sleep(2)\n",
    "browser.find_element_by_xpath('//*[@id=\"session_password\"]').send_keys(password)\n",
    "time.sleep(2)\n",
    "browser.find_element_by_xpath('//*[@id=\"main-content\"]/section[1]/div[2]/form/button').click()\n",
    "time.sleep(5)"
   ]
  },
  {
   "cell_type": "code",
   "execution_count": 19,
   "metadata": {},
   "outputs": [],
   "source": [
    "browser.get('https:www.google.com')  ## Goto Google\n",
    "time.sleep(3)\n",
    "browser.find_element_by_xpath('/html/body/div[1]/div[3]/form/div[1]/div[1]/div[1]/div/div[2]/input').send_keys(search_query)\n",
    "time.sleep(0.5)\n",
    "## Display all the Profiles\n",
    "browser.find_element_by_xpath('/html/body/div[1]/div[3]/form/div[1]/div[1]/div[3]/center/input[1]').click()"
   ]
  },
  {
   "cell_type": "code",
   "execution_count": 29,
   "metadata": {},
   "outputs": [],
   "source": [
    "url_list=[]\n",
    "elems = browser.find_elements_by_tag_name('a')\n",
    "for elem in elems:\n",
    "    href = elem.get_attribute('href')\n",
    "    if href is not None:\n",
    "        url_list.append(href)"
   ]
  },
  {
   "cell_type": "code",
   "execution_count": 30,
   "metadata": {},
   "outputs": [],
   "source": [
    "linkedin_urls=[s for s in url_list if \"https://in.linkedin.com\" in s]\n",
    "linkedin_urls=[s for s in linkedin_urls if \"https://www.google.com/\" not in s]\n",
    "#linkedin_urls.remove('https://in.linkedin.com/in/rahulvijay1807')\n",
    "top_five = linkedin_urls[:5] ## Select the Top 5 Profiles here"
   ]
  },
  {
   "cell_type": "markdown",
   "metadata": {},
   "source": [
    "## Selenium -  to Extract Data"
   ]
  },
  {
   "cell_type": "code",
   "execution_count": 43,
   "metadata": {},
   "outputs": [],
   "source": [
    "SCROLL_PAUSE_TIME = 2.0\n",
    "names= []\n",
    "final_skills = []\n",
    "mail_ids = []\n",
    "titles = []\n",
    "final_followers = []\n",
    "skill_list = []\n",
    "company = []\n",
    "education = []\n",
    "\n",
    "\n",
    "for i in top_five:\n",
    "    time.sleep(2)\n",
    "    \n",
    "    browser.get(i)\n",
    "    browser.maximize_window()\n",
    "    last_height = browser.execute_script(\"return document.body.scrollHeight\")\n",
    "    time.sleep(5)\n",
    "    #browser.execute_script(\"window.scrollTo(0, document.body.scrollHeight);\")\n",
    "    #time.sleep(5)\n",
    "    soup = BeautifulSoup(browser.page_source,'lxml')\n",
    "    time.sleep(10)\n",
    "\n",
    "    ## name\n",
    "    name = soup.title.text.split('|')[0].strip()\n",
    "    names.append(name)\n",
    "    \n",
    "    time.sleep(5)\n",
    "    \n",
    "    ## company\n",
    "    try:\n",
    "        companies = browser.find_element_by_xpath('//*[@aria-label = \"Current company\"]').text\n",
    "    except:\n",
    "        companies ='Free lancer'\n",
    "    company.append(companies)\n",
    "    \n",
    "    time.sleep(5)\n",
    "\n",
    "    ## Education\n",
    "    try:\n",
    "        Education = browser.find_element_by_xpath('//*[@aria-label = \"Education\"]').text\n",
    "    except:\n",
    "        Education = 'Not Mentioned'\n",
    "    education.append(Education)\n",
    "    \n",
    "    time.sleep(5)\n",
    "    \n",
    "    ## followers\n",
    "    try:\n",
    "        followers = browser.find_elements_by_xpath('//*[@class=\"align-self-center t-14 t-black--light\"]')[0].text.split(' ')[0]\n",
    "    except:\n",
    "        followers = '0'\n",
    "    final_followers.append(followers)\n",
    "    \n",
    "    time.sleep(5)\n",
    "    \n",
    "    #title\n",
    "    title = browser.find_elements_by_xpath('//*[@class=\"text-body-medium break-words\"]')[0].text\n",
    "    titles.append(title)\n",
    "    \n",
    "    time.sleep(5)\n",
    "    \n",
    "\n",
    "datas = {'Name':names,'Title':titles,'Company':company,'Education':education,'Followers':final_followers}\n",
    "final=pd.DataFrame(datas)\n",
    "final['Job'] = \"Data Analyst\""
   ]
  },
  {
   "cell_type": "code",
   "execution_count": 45,
   "metadata": {},
   "outputs": [
    {
     "data": {
      "text/html": [
       "<div>\n",
       "<style scoped>\n",
       "    .dataframe tbody tr th:only-of-type {\n",
       "        vertical-align: middle;\n",
       "    }\n",
       "\n",
       "    .dataframe tbody tr th {\n",
       "        vertical-align: top;\n",
       "    }\n",
       "\n",
       "    .dataframe thead th {\n",
       "        text-align: right;\n",
       "    }\n",
       "</style>\n",
       "<table border=\"1\" class=\"dataframe\">\n",
       "  <thead>\n",
       "    <tr style=\"text-align: right;\">\n",
       "      <th></th>\n",
       "      <th>Name</th>\n",
       "      <th>Title</th>\n",
       "      <th>Company</th>\n",
       "      <th>Education</th>\n",
       "      <th>Followers</th>\n",
       "      <th>Job</th>\n",
       "      <th>URL</th>\n",
       "    </tr>\n",
       "  </thead>\n",
       "  <tbody>\n",
       "    <tr>\n",
       "      <th>0</th>\n",
       "      <td>(1) Shweta Nayak</td>\n",
       "      <td>Data Analyst at Intel | Analytics | Data Gover...</td>\n",
       "      <td>Intel Corporation</td>\n",
       "      <td>International Institute of Information Technol...</td>\n",
       "      <td>0</td>\n",
       "      <td>Data Analyst</td>\n",
       "      <td>https://in.linkedin.com/in/naikshweta</td>\n",
       "    </tr>\n",
       "    <tr>\n",
       "      <th>1</th>\n",
       "      <td>Bhagavathi Chandrasekhar</td>\n",
       "      <td>Data Analyst at Nielsen</td>\n",
       "      <td>Nielsen</td>\n",
       "      <td>Pondicherry Central University</td>\n",
       "      <td>871</td>\n",
       "      <td>Data Analyst</td>\n",
       "      <td>https://in.linkedin.com/in/bhagavathi-chandras...</td>\n",
       "    </tr>\n",
       "    <tr>\n",
       "      <th>2</th>\n",
       "      <td>Ankit Prakash</td>\n",
       "      <td>Data Analyst at JCPenney</td>\n",
       "      <td>JCPenney</td>\n",
       "      <td>Manipal Academy of Higher Education</td>\n",
       "      <td>2,121</td>\n",
       "      <td>Data Analyst</td>\n",
       "      <td>https://in.linkedin.com/in/ankit-prakash-a793b245</td>\n",
       "    </tr>\n",
       "    <tr>\n",
       "      <th>3</th>\n",
       "      <td>Nikhil Patil</td>\n",
       "      <td>Data Analyst at Flipkart | MSc. Statistics</td>\n",
       "      <td>Flipkart</td>\n",
       "      <td>North Maharashtra University</td>\n",
       "      <td>3,267</td>\n",
       "      <td>Data Analyst</td>\n",
       "      <td>https://in.linkedin.com/in/nikhil-patil-902337145</td>\n",
       "    </tr>\n",
       "    <tr>\n",
       "      <th>4</th>\n",
       "      <td>Arun Kumar</td>\n",
       "      <td>Bangalore University</td>\n",
       "      <td>Accenture</td>\n",
       "      <td>Bangalore University</td>\n",
       "      <td>254</td>\n",
       "      <td>Data Analyst</td>\n",
       "      <td>https://in.linkedin.com/in/arun-kumar-416112154</td>\n",
       "    </tr>\n",
       "  </tbody>\n",
       "</table>\n",
       "</div>"
      ],
      "text/plain": [
       "                       Name  \\\n",
       "0          (1) Shweta Nayak   \n",
       "1  Bhagavathi Chandrasekhar   \n",
       "2             Ankit Prakash   \n",
       "3              Nikhil Patil   \n",
       "4                Arun Kumar   \n",
       "\n",
       "                                               Title            Company  \\\n",
       "0  Data Analyst at Intel | Analytics | Data Gover...  Intel Corporation   \n",
       "1                            Data Analyst at Nielsen            Nielsen   \n",
       "2                           Data Analyst at JCPenney           JCPenney   \n",
       "3         Data Analyst at Flipkart | MSc. Statistics           Flipkart   \n",
       "4                               Bangalore University          Accenture   \n",
       "\n",
       "                                           Education Followers           Job  \\\n",
       "0  International Institute of Information Technol...         0  Data Analyst   \n",
       "1                     Pondicherry Central University       871  Data Analyst   \n",
       "2                Manipal Academy of Higher Education     2,121  Data Analyst   \n",
       "3                       North Maharashtra University     3,267  Data Analyst   \n",
       "4                               Bangalore University       254  Data Analyst   \n",
       "\n",
       "                                                 URL  \n",
       "0              https://in.linkedin.com/in/naikshweta  \n",
       "1  https://in.linkedin.com/in/bhagavathi-chandras...  \n",
       "2  https://in.linkedin.com/in/ankit-prakash-a793b245  \n",
       "3  https://in.linkedin.com/in/nikhil-patil-902337145  \n",
       "4    https://in.linkedin.com/in/arun-kumar-416112154  "
      ]
     },
     "execution_count": 45,
     "metadata": {},
     "output_type": "execute_result"
    }
   ],
   "source": [
    "final['URL'] = top_five\n",
    "final"
   ]
  },
  {
   "cell_type": "code",
   "execution_count": null,
   "metadata": {},
   "outputs": [],
   "source": []
  }
 ],
 "metadata": {
  "kernelspec": {
   "display_name": "Python 3",
   "language": "python",
   "name": "python3"
  },
  "language_info": {
   "codemirror_mode": {
    "name": "ipython",
    "version": 3
   },
   "file_extension": ".py",
   "mimetype": "text/x-python",
   "name": "python",
   "nbconvert_exporter": "python",
   "pygments_lexer": "ipython3",
   "version": "3.8.5"
  }
 },
 "nbformat": 4,
 "nbformat_minor": 4
}
